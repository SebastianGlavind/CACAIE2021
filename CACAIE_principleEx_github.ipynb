{
 "cells": [
  {
   "cell_type": "markdown",
   "metadata": {},
   "source": [
    "# A SIMPLE PRINCIPLE EXAMPLE ON CONTEXT-SPECIFIC MODEL SELECTION\n",
    "\n",
    "by Sebastian T. Glavind, Jan 2021, Apr 2021\n",
    "\n",
    "# Introduction\n",
    "\n",
    "This notebook shows how the numerical optimization is conducted in the example by the same name of the paper:\n",
    "\n",
    "Glavind, S. T., Brüske, H., Christensen, E. D, and Faber, M. H., \"On systems modeling and context-specific model selection in offshore engineering\", submitted to Computer-Aided Civil and Infrastructure Engineering, 2021.\n",
    "\n",
    "The paper is currently under review. A link to the paper with a description of the example will follow, when the paper is accepted for publication.\n",
    "\n",
    "\n",
    "# Prelude"
   ]
  },
  {
   "cell_type": "code",
   "execution_count": 2,
   "metadata": {},
   "outputs": [],
   "source": [
    "# library(MCMCpack)\n",
    "# library(foreach)\n",
    "# library(doParallel) "
   ]
  },
  {
   "cell_type": "markdown",
   "metadata": {},
   "source": [
    "# Data\n",
    "\n",
    "## Concrete data\n",
    "\n",
    "### Raw data\n",
    "\n",
    "Sampling of compression data (log-normal distribution)"
   ]
  },
  {
   "cell_type": "code",
   "execution_count": 3,
   "metadata": {},
   "outputs": [],
   "source": [
    "# real to log quantities\n",
    "Parameters_real2log = function(mu,sd){\n",
    "    muLog = log( mu^2/( sqrt(mu^2 + sd^2) ) ); \n",
    "    sdLog = sqrt( log( 1 + (sd^2)/(mu^2) ) )\n",
    "    return(list(muLog, sdLog))\n",
    "}"
   ]
  },
  {
   "cell_type": "code",
   "execution_count": 4,
   "metadata": {},
   "outputs": [],
   "source": [
    "set.seed(42)\n",
    "\n",
    "# Concrete compressiv strength\n",
    "muZ = 32.665; sdZ = 4.15; nZ = 1000\n",
    "pamZlog = Parameters_real2log(muZ, sdZ); \n",
    "muZlog = pamZlog[[1]]; sdZlog = pamZlog[[2]]\n",
    "zc = exp(rnorm(nZ, mean=muZlog, sd=sdZlog)); "
   ]
  },
  {
   "cell_type": "markdown",
   "metadata": {},
   "source": [
    "### Discrete data\n",
    "\n",
    "Upper and lower bound for the discretization;"
   ]
  },
  {
   "cell_type": "code",
   "execution_count": 5,
   "metadata": {},
   "outputs": [],
   "source": [
    "eps = 1e-6\n",
    "BP_bounds = c(min(zc)-eps, max(zc)+eps);"
   ]
  },
  {
   "cell_type": "markdown",
   "metadata": {},
   "source": [
    "## Load distribution"
   ]
  },
  {
   "cell_type": "code",
   "execution_count": 6,
   "metadata": {},
   "outputs": [],
   "source": [
    "# Load distribution\n",
    "muL = 200; CoV_L = 0.2; sdL = muL*CoV_L;  \n",
    "pamLlog = Parameters_real2log(muL, sdL); \n",
    "muLlog = pamLlog[[1]]; sdLlog = pamLlog[[2]]\n",
    "\n",
    "# Plot\n",
    "xaxStress_plot = seq(0,50,length=100); a_plot = 12\n",
    "pamStress_plot = Parameters_real2log(muL/a_plot, sdL/a_plot); # I think that sdL is not scaled correctly!!! (but this anly influence thus illustration - so dont worry)\n",
    "densStress_plot = dlnorm(xaxStress_plot, meanlog = pamStress_plot[[1]], sdlog = pamStress_plot[[2]])"
   ]
  },
  {
   "cell_type": "markdown",
   "metadata": {},
   "source": [
    "## Visualizations"
   ]
  },
  {
   "cell_type": "code",
   "execution_count": 7,
   "metadata": {},
   "outputs": [
    {
     "data": {
      "image/png": "[encoded data removed]",
      "text/plain": [
       "Plot with title \"\""
      ]
     },
     "metadata": {},
     "output_type": "display_data"
    }
   ],
   "source": [
    "# # Open a pdf file\n",
    "# pdf(\"simpleExample_distributions.pdf\", width=5, height=5) \n",
    "# Create a plot\n",
    "Hinit=hist(zc, freq=F, xlim = c(10,50), ylim=c(0,max(densStress_plot)), xlab='Strength, Stress [MPa]', main='', cex.lab=0.85, cex.axis=0.85) # initial discretization for illustartion purposes only\n",
    "lines(xaxStress_plot, densStress_plot, lw=2)\n",
    "legend(\"topright\", legend=c(\"Strength\", \"Stress\"), col=c(\"black\", \"black\"), lw=c(NA,2), lty = c(NA,1), pch = c(0, NA), cex=0.8)\n",
    "# # Close the pdf file\n",
    "# dev.off() "
   ]
  },
  {
   "cell_type": "markdown",
   "metadata": {},
   "source": [
    "# Optimization problem\n",
    "\n",
    "$$ \\min_A [C_p(A) + C_f(A)] = \\min_A [C_p \\cdot A + C_f \\cdot P_f(A)] = \\min_A [C_p \\cdot A + C_f \\cdot P(\\{A \\cdot Z - l \\leq 0\\})] $$\n",
    "\n",
    "## Cost functions"
   ]
  },
  {
   "cell_type": "code",
   "execution_count": 8,
   "metadata": {},
   "outputs": [],
   "source": [
    "########################################################################\n",
    "# PROBABILITY OF FAILURE FOR COST FUNCTIONS\n",
    "########################################################################\n",
    "# Frequentistic implementation\n",
    "Pf_eval_data = function(Area, Load, distZ){\n",
    "    bpZ = distZ$breaks; # print(bpZ) # boundery points (same as BP_list)\n",
    "    denZ = distZ$density; # print(distZ$counts) # densities\n",
    "    ratio = Load/Area; # print(ratio) # Load per area\n",
    "    if (ratio < bpZ[1]){\n",
    "        Pf = 0\n",
    "    } else if (bpZ[length(bpZ)] < ratio){\n",
    "        Pf = 1\n",
    "    } else {\n",
    "        if (sum(ratio == bpZ)>0){ # correstion if ratio coincide with boundery point\n",
    "            ratio = ratio + 1e-6\n",
    "        }\n",
    "        bp_min = max(bpZ[bpZ<ratio]); # print(bp_min) # lower bound of bin where ration fall\n",
    "        bp_max = min(bpZ[bpZ>ratio]); # print(bp_max) # upper bound of bin where ration fall\n",
    "        bpZact = bpZ[ bpZ<=bp_max ]; # print(bpZact) # active boundery points\n",
    "        binsZact = bpZact[-1] - bpZact[-length(bpZact)]; # print(binsZact) # active bins\n",
    "        binsZweight = rep(1,length(binsZact)); # print(binsZweight) # weight of each bin (initialization)\n",
    "        binsZweight[length(binsZweight)] = (ratio-bp_min)/(bp_max-bp_min); # print(binsZweight) # ajust weight of last bin, i.e. bin where ratio fall\n",
    "        denZact = denZ[c(1:length(binsZweight))]; # print(denZact) # weighted densities\n",
    "        pi = binsZact*(binsZweight*denZact); # print(pi) # weighted bin probabilities\n",
    "        Pf = sum(pi); # print(Pf) # probability of failure, i.e. P(Z <= ratio)\n",
    "    }\n",
    "    return(Pf)\n",
    "}\n",
    "# Bayesian implementation\n",
    "dirichlet_sampler = function(nSamp, alpha_vec, seed=NULL){\n",
    "    set.seed(seed) # iff NULL; generate random seed\n",
    "    nAlp = length(alpha_vec)\n",
    "    y_gam_mat = matrix(1, nrow=nSamp, ncol=nAlp)\n",
    "    for (i in 1:nAlp){\n",
    "         y_gam_mat[,i] = rgamma(nSamp, alpha_vec[i]) \n",
    "    }\n",
    "    y_dir_mat =  y_gam_mat/rowSums(y_gam_mat); # print(colSums(y_gam_mat))\n",
    "    return(y_dir_mat)\n",
    "}\n",
    "Pf_eval = function(Area, Load, distZ, nSamp=100, seed=NULL){\n",
    "    bpZ = distZ$breaks; # print(bpZ) # boundery points (same as BP_list)\n",
    "    ratio = Load/Area; # print(ratio) # Load per area\n",
    "    if (ratio < bpZ[1]){\n",
    "        Pf = 0\n",
    "    } else if (bpZ[length(bpZ)] < ratio){\n",
    "        Pf = 1\n",
    "    } else {\n",
    "        if (sum(ratio == bpZ)>0){ # correstion if ratio coincide with boundery point\n",
    "            ratio = ratio + 1e-6\n",
    "        }\n",
    "        bp_min = max(bpZ[bpZ<ratio]); # print(bp_min) # lower bound of bin where ration fall\n",
    "        bp_max = min(bpZ[bpZ>ratio]); # print(bp_max) # upper bound of bin where ration fall\n",
    "        bpZact = bpZ[ bpZ<=bp_max ]; # print(bpZact) # active boundery points\n",
    "        binsZact = bpZact[-1] - bpZact[-length(bpZact)]; # print(binsZact) # active bins\n",
    "        binsZweight = rep(1,length(binsZact)); # print(binsZweight) # weight of each bin (initialization)\n",
    "        binsZweight[length(binsZweight)] = (ratio-bp_min)/(bp_max-bp_min); # print(paste0('w = ',binsZweight)) # ajust weight of last bin, i.e. bin where ratio fall\n",
    "        # Bayesian implementation\n",
    "        countsZ = distZ$counts; # print(countsZ) # empirical counts\n",
    "        denZsamp = dirichlet_sampler(nSamp, countsZ+1, seed); # print(denZsamp[c(1:10),]) # empirical counts + prior counts (1)\n",
    "#         denZsamp = rdirichlet(n = nSamp, alpha=countsZ+1) # function from MCMCpack\n",
    "        denZsamp_act = denZsamp[ , c(1:length(binsZweight))]; # print(denZact) # weighted densities\n",
    "        if (class(denZsamp_act)=='numeric'){ # its a vector (one active bin)\n",
    "            Pf = denZsamp_act*binsZweight; # probability of failure, i.e. P(Z <= ratio)\n",
    "        } else {\n",
    "            Pf = denZsamp_act%*%binsZweight; # probability of failure, i.e. P(Z <= ratio)\n",
    "        }\n",
    "    }\n",
    "    return(Pf)\n",
    "}\n",
    "########################################################################\n",
    "# COST FUNCTIONS\n",
    "########################################################################\n",
    "Cp_eval = function(Area,Cp){\n",
    "    Cost = Cp * Area\n",
    "    return(Cost)\n",
    "}\n",
    "Cf_eval = function(Pf,Cf){\n",
    "    Cost = Cf * Pf\n",
    "    if (length(Cost)>1){\n",
    "        Cost = mean(Cost) # expected cost\n",
    "    }\n",
    "    return(Cost)\n",
    "}\n",
    "# Frequentistic implementation\n",
    "Ctotal_eval_data = function(Area, Load, distZ, Cp, Cf){\n",
    "    Pf = Pf_eval_data(Area, Load, distZ)\n",
    "    Cf_total = Cf_eval(Pf, Cf)\n",
    "    Cp_total = Cp_eval(Area, Cp)\n",
    "    Ctotal = Cf_total + Cp_total\n",
    "    return(Ctotal)\n",
    "}\n",
    "# Bayesian implementation\n",
    "Ctotal_eval = function(Area, Load, distZ, Cp, Cf, nSamp = 100, seed=NULL){\n",
    "    Pf = Pf_eval(Area, Load, distZ, nSamp, seed); \n",
    "    Cf_total = Cf_eval(Pf, Cf); \n",
    "    Cp_total = Cp_eval(Area, Cp);\n",
    "    Ctotal = Cf_total + Cp_total\n",
    "    return(Ctotal)\n",
    "}\n",
    "\n",
    "# # test\n",
    "# PPf=Pf_eval(10, 234, Hinit, nSamp=100, seed=NULL); # PPf\n",
    "# hist(PPf)\n",
    "# print(paste0('Empirical value: ', sum(zc<234/10)/length(zc)))\n",
    "\n",
    "# CCtest = Ctotal_eval(10, 234, Hinit, 1, 100, nSamp = 100, seed=NULL); CCtest\n",
    "# hist(CCtest)"
   ]
  },
  {
   "cell_type": "markdown",
   "metadata": {},
   "source": [
    "## Discretization functions\n",
    "\n",
    "### Discretize capacity\n",
    "\n",
    "Adapted from `sLearningAndDiscretizationTools` ( a toolbox developed by the first author, which is found at [link](https://github.com/SebastianGlavind/PhD-study/blob/master/Bayesian-networks/Toolboxes/sLearningAndDiscretizationTools.R))."
   ]
  },
  {
   "cell_type": "code",
   "execution_count": 9,
   "metadata": {},
   "outputs": [],
   "source": [
    "discretize_oneVariable = function(data, BP_bounds, quiet, n_iterations_max = NULL, Area, Load, Cp, Cf, nSamp=100, seed=NULL){\n",
    "  \n",
    "    sort_data = sort(unique(data)); # print(sort_data) # sort, unique continuous data instances\n",
    "    n_uniq = length(sort_data); # print(n_uniq) # no. of unique continuous data instances\n",
    "    BP_i = (sort_data[-n_uniq] + sort_data[-1])/2; # print(length(BP_i)) # Initial set of potential boundery points (BP)\n",
    "    if (length(BP_i)>512){\n",
    "      BP_i = sort(sample(BP_i, 512, replace = FALSE, prob = NULL)); # Reduces the number of trial points\n",
    "    }; # print(length(BP_i))\n",
    "    BP_list_i = BP_bounds; # print(BP_list_i) # Initial list of BP \n",
    "    \n",
    "    # Iteration for optimal discretization\n",
    "    n_iterations = 0 # initialize number of iterations\n",
    "    if (is.null(n_iterations_max)){ # maximum number of iterations (default) \n",
    "      ###################################\n",
    "      if (round((n_uniq-1)/10) < 10){\n",
    "        n_iterations_max = n_uniq-1 # min 10, but else ...\n",
    "      } else {\n",
    "        n_iterations_max = round((n_uniq-1)/10); # max 1/10 of potential BP\n",
    "      }\n",
    "      ###################################\n",
    "    } else {\n",
    "      ###################################\n",
    "      n_iterations_max = n_iterations_max\n",
    "      ###################################\n",
    "    } # //*IF, ELSE*//\n",
    "    \n",
    "    \n",
    "    score_i = -Inf # Initialize reference score (iteration n_iter-1)\n",
    "    score_i_new = -10^5 # Initialize new score\n",
    "    \n",
    "    while ((score_i - score_i_new < 0)&(n_iterations < n_iterations_max)) {\n",
    "    # while ((n_iterations < n_iterations_max)) {\n",
    "      # print(score_i); print(score_i_new)\n",
    "      n_iterations = n_iterations + 1; \n",
    "      \n",
    "      if (quiet == FALSE){\n",
    "        # print(c('Max_it',n_iterations_max)) \n",
    "        print('Ite'); print(n_iterations) # Number of iterations \n",
    "      } # //*IF*//\n",
    "      \n",
    "      # Updating\n",
    "      if (n_iterations > 1){\n",
    "        BP_i = BP_i_new\n",
    "        BP_list_i = BP_list_i_new\n",
    "        score_i = score_i_new \n",
    "      }\n",
    "      \n",
    "      # Loop over current set of potential BP\n",
    "      score_ij_new = -Inf\n",
    "      for (j in 1:length(BP_i)){ # Loop over boundery points (BP)   \n",
    "        BP_list_ij_test = sort(c(BP_list_i, BP_i[j])); # print(BP_list_ij_test) # add new candidate point j to list of BP\n",
    "        \n",
    "        ########################################################################################\n",
    "        # CUSTOM OBJECTIVE\n",
    "        ########################################################################################\n",
    "        hist_ij_obj = hist(data, breaks = BP_list_ij_test, plot=F)\n",
    "        score_ij = - Ctotal_eval(Area, Load, hist_ij_obj, Cp, Cf, nSamp, seed); # print(score_ij) # negative cost in maximization!\n",
    "        ########################################################################################\n",
    "        # Update, iff score is improved compared to privious best candidate point\n",
    "        if (score_ij > score_ij_new){ # Update, if the is an inprovenemt from privious trial\n",
    "          index_ij_new = j # index of (current) best candidate point \n",
    "          BP_list_ij_new = BP_list_ij_test # new list of BP including this point\n",
    "          score_ij_new = score_ij # new score\n",
    "          # print(score_ij_new)\n",
    "        } # //*IF*//\n",
    "      } # //*FOR, j*//\n",
    "      \n",
    "      # Updating/book keeping\n",
    "      BP_i_new = BP_i[-index_ij_new] # new list of candidate BP (exclude the one accepted in this iteration)  \n",
    "      BP_list_i_new = BP_list_ij_new # new list of BP\n",
    "      score_i_new = score_ij_new; # print(score_i_new) # new score\n",
    "    }\n",
    "    ###################################\n",
    "    # Update discrete data\n",
    "    if (n_iterations==n_iterations_max){\n",
    "      BP_list = BP_list_i_new; # not cenverged  - choose last update! - ie. best possible score\n",
    "      score = score_i_new;\n",
    "    } else{\n",
    "      BP_list = BP_list_i; # converged - choose the minimum number of splits (one more reduces the score) - ie. best possible score\n",
    "      score = score_i;\n",
    "    }\n",
    "    ###################################\n",
    "  return(list(BP_list = BP_list, score=score))\n",
    "} # //*FUNCTION*//\n",
    "\n",
    "# test\n",
    "# res2 = discretize_oneVariable(data=zc, BP_bounds=BP_bounds, quiet=F, n_iterations_max = NULL, Area=10, Load=260, Cp=1, Cf=100)\n",
    "# print('Results for scenario 2')\n",
    "# print(res2$score)\n",
    "# print(res2$BP_list)\n",
    "# distZ2 = hist(zc, breaks = res2$BP_list)"
   ]
  },
  {
   "cell_type": "markdown",
   "metadata": {},
   "source": [
    "### Discretize load"
   ]
  },
  {
   "cell_type": "code",
   "execution_count": 10,
   "metadata": {},
   "outputs": [],
   "source": [
    "equal_width_logNorm_discretizer = function(lwX, upX, nBins, muLog, sdLog){\n",
    "    rangeX = upX - lwX;\n",
    "    dx = rangeX/nBins\n",
    "    bps = lwX + c(0:nBins)*dx;\n",
    "    mids = (bps[-1] + bps[-(nBins+1)])/2\n",
    "    dens = dlnorm(mids, muLog, sdLog)\n",
    "    return(list(bps, mids, dens))\n",
    "}\n",
    "\n",
    "create_custom_histObj = function(breaks, counts, density, mids, xname){\n",
    "    histres <- list(\n",
    "        breaks=breaks,\n",
    "        counts=counts,\n",
    "        density=density,\n",
    "        mids=mids,\n",
    "        xname=xname,\n",
    "        equidist = TRUE\n",
    "    )\n",
    "    class(histres) <- \"histogram\"\n",
    "    return(histres)\n",
    "} \n",
    "\n",
    "plot_loading_systems = function(boundsL, muLlog, sdLlog, discL){\n",
    "    xaxL_plot = seq(boundsL[1],boundsL[2],length=100);\n",
    "    densL_plot = dlnorm(xaxL_plot, meanlog = muLlog, sdlog = sdLlog)\n",
    "    plot(xaxL_plot, densL_plot, type=\"l\", col=\"gray\", xlab='Load', ylab='Density', main='Loading systems')\n",
    "    plot(create_custom_histObj(discL[[1]], discL[[3]], discL[[3]], discL[[2]], 'Load'), freq=F, add=T)\n",
    "    for (k in 1:length(discL[[2]])){\n",
    "        lines(rep(discL[[2]][k],2), c(0,discL[[3]][k]), lw=2, col='red')\n",
    "        text(discL[[2]][k], discL[[3]][k], paste0('Load = ', round(discL[[2]][k],0)))\n",
    "    }   \n",
    "}\n",
    "\n",
    "# # test\n",
    "# # Discrete density\n",
    "# bounds_test = qlnorm(c(0.001, 0.999), muLlog, sdLlog); # bounds_test \n",
    "# res_test = equal_width_logNorm_discretizer(bounds_test[1], bounds_test[2], 5, muLlog, sdLlog); # res_test\n",
    "# # sum(res_test[[3]]*(res_test[[1]][2]-res_test[[1]][1]))\n",
    "# myHistObj_test = create_custom_histObj(res_test[[1]], res_test[[3]], res_test[[3]], res_test[[2]], 'test')\n",
    "# # True continuous density\n",
    "# xaxL_plot = seq(100,350,length=100);\n",
    "# densL_plot = dlnorm(xaxL_plot, meanlog = muLlog, sdlog = sdLlog)\n",
    "# # Plot\n",
    "# plot(myHistObj_test, freq=F, main='')\n",
    "# lines(xaxL_plot, densL_plot, lw=2)"
   ]
  },
  {
   "cell_type": "markdown",
   "metadata": {},
   "source": [
    "## Area optimizer\n",
    "\n",
    "### Continuous"
   ]
  },
  {
   "cell_type": "code",
   "execution_count": 11,
   "metadata": {},
   "outputs": [],
   "source": [
    "gen_random_seed = function(lw,up){\n",
    "    seed = as.integer((up-lw) * runif(1) + lw)\n",
    "    return(seed)\n",
    "}\n",
    "\n",
    "numerical_gradient = function(Area, Load, distZ, Cp, Cf, nSamp=100, seed=1){\n",
    "    ee = 1e-6 * Area\n",
    "    Area_lw = Area - ee\n",
    "    Area_hi = Area + ee\n",
    "    dCdA = ( Ctotal_eval(Area_hi, Load, distZ, Cp, Cf, nSamp, seed) - Ctotal_eval(Area_lw, Load, distZ, Cp, Cf, nSamp, seed) )/(2*ee)\n",
    "    if (abs(dCdA)>1){\n",
    "        dCdA = sign(1)\n",
    "    }\n",
    "    return(dCdA)\n",
    "}\n",
    "\n",
    "optimize_area = function(Area, Load, distZ, Cp, Cf, z, nSamp=100){\n",
    "    gamma = 1\n",
    "    precision = 1e-3\n",
    "    max_epochs = 1000\n",
    "    rangeZ = range(z)\n",
    "    rangeA = Load/rangeZ; print(rangeA)\n",
    "    seed = gen_random_seed(0,2147483647) # up = .Machine$integer.max\n",
    "    for (k in c(1:max_epochs)){\n",
    "#         print(k); print(Area)\n",
    "        gamma = gamma * exp(-0.001*(k-1)); # print(gamma) # temporing\n",
    "        dCdA = numerical_gradient(Area, Load, distZ, Cp, Cf, nSamp, seed)\n",
    "        Area_new = Area - gamma * dCdA # minimize cost!\n",
    "        if (Area_new < rangeA[2]){\n",
    "            Area = rangeA[2] + precision  \n",
    "            break\n",
    "        }\n",
    "        if (Area_new > rangeA[1]){\n",
    "            Area = rangeA[1] - precision\n",
    "            break\n",
    "        }\n",
    "        if (abs((Area_new-Area)/Area) < precision){\n",
    "            Area = Area_new\n",
    "            break\n",
    "        }\n",
    "        ##############################################\n",
    "        # Updata for next iteration\n",
    "        ##############################################\n",
    "        Area = Area_new\n",
    "        print(Area)\n",
    "        ##############################################\n",
    "    }\n",
    "    return(Area)\n",
    "}\n",
    "# test\n",
    "# optimize_area(Area=10, Load=260, distZ=distZ2, Cp=1, Cf=100, z=zc)\n",
    "\n",
    "# validation\n",
    "# A_test = seq(from=260/max(zc), to = 260/min(zc), by=0.01)\n",
    "# Aopt_vec = list()\n",
    "# for (k in 1:length(A_test)){\n",
    "#     Aopt_vec[[k]] = Ctotal_eval(A_test[k], 260, distZ_test, 1, 100)    \n",
    "# }\n",
    "# min(unlist(Aopt_vec))"
   ]
  },
  {
   "cell_type": "markdown",
   "metadata": {},
   "source": [
    "## Optimize Area and discretization\n",
    "\n",
    "### Continuous"
   ]
  },
  {
   "cell_type": "code",
   "execution_count": 12,
   "metadata": {},
   "outputs": [],
   "source": [
    "optAreaAndDiscretization = function(Area, Area_bounds, Load, Cp, Cf, z, BP_bounds, nSamp=100, seed=NULL){\n",
    "    cost = 1e6\n",
    "    precision = 1e-3\n",
    "    max_epochs = 1000\n",
    "    Area = mean(Area_bounds)\n",
    "    for (k in c(1:max_epochs)){\n",
    "#         print(paste0('k = ', k))\n",
    "        res = discretize_oneVariable(data=zc, BP_bounds=BP_bounds, quiet=T, n_iterations_max = NULL, Area=Area, Load=Load, Cp=Cp, Cf=Cf, nSamp=nSamp, seed=seed)\n",
    "        BP_list = res$BP_list # print(BP_list)\n",
    "        distZ = hist(zc, breaks = BP_list, plot=F)\n",
    "        # Area = optimize_area(Area=Area, Load=Load, distZ=distZ, Cp=Cp, Cf=Cf, z=zc, nSamp); # print(Area)\n",
    "        # cost_new = Ctotal_eval(Area, Load, distZ, Cp, Cf, nSamp, seed)\n",
    "        optArea = optimize(Ctotal_eval, Area_bounds, tol=1e-4, Load=Load, distZ=distZ, Cp=Cp, Cf=Cf, nSamp=nSamp, seed=gen_random_seed(0,2147483647))\n",
    "        Area = optArea$minimum\n",
    "        cost_new = optArea$objective\n",
    "#         print(paste0('Area = ', Area, ', cost = ', cost_new))\n",
    "        if ( abs(cost_new-cost)/cost < precision){\n",
    "            break\n",
    "        } else {\n",
    "            cost = cost_new\n",
    "        }\n",
    "    }\n",
    "    return(list(BP_list=BP_list, distZ=distZ, Area=Area, cost=cost))\n",
    "}"
   ]
  },
  {
   "cell_type": "markdown",
   "metadata": {},
   "source": [
    "### Discrete"
   ]
  },
  {
   "cell_type": "code",
   "execution_count": 13,
   "metadata": {},
   "outputs": [],
   "source": [
    "optAreaAndDiscretization_discrete = function(Avec, Load, Cp, Cf, z, BP_bounds, nSamp=100, seed=NULL){\n",
    "    nA = length(Avec)\n",
    "    cost = Inf\n",
    "    for (k in 1:nA){\n",
    "        res = discretize_oneVariable(data=zc, BP_bounds=BP_bounds, quiet=T, n_iterations_max = NULL, Area=Avec[k], Load=Load, Cp=Cp, Cf=Cf, nSamp, seed)\n",
    "        BP_list_new = res$BP_list\n",
    "        distZ_new = hist(zc, breaks = BP_list_new, plot=F)\n",
    "        cost_new = Ctotal_eval(Avec[k], Load, distZ_new, Cp, Cf, nSamp, seed)  \n",
    "        if (cost_new < cost){\n",
    "            cost = cost_new\n",
    "            Area = Avec[k]\n",
    "            BP_list = BP_list_new\n",
    "            distZ = distZ_new\n",
    "        }\n",
    "        # print(list(cost,Area))            \n",
    "    }\n",
    "    return(list(BP_list=BP_list, distZ=distZ, Area=Area, cost=cost))\n",
    "}"
   ]
  },
  {
   "cell_type": "markdown",
   "metadata": {},
   "source": [
    "## Solve the optimization problem for a fixed load\n",
    "\n",
    "### Continuous/Discrete"
   ]
  },
  {
   "cell_type": "code",
   "execution_count": 14,
   "metadata": {},
   "outputs": [],
   "source": [
    "# set.seed(1)\n",
    "# Area_bounds = c(6,16)\n",
    "# # Avec = seq(from=10, to = 16, by=1)\n",
    "# Load=234 # needs to be in the range of the data, such that Load/Area \\in range(z)\n",
    "# Cp=1\n",
    "# Cf=100\n",
    "\n",
    "# RES=optAreaAndDiscretization(Area_bounds=Area_bounds, Load=Load, Cp=Cp, Cf=Cf, z=zc, BP_bounds=BP_bounds, nSamp=1000, seed=NULL)\n",
    "# nSim = 100\n",
    "# cl = makeCluster(detectCores()-1)\n",
    "# registerDoParallel(cl)\n",
    "# RESsim = foreach(i=1:nSim) %dopar% {\n",
    "#     optAreaAndDiscretization(Area_bounds=Area_bounds, Load=Load, Cp=Cp, Cf=Cf, z=zc, BP_bounds=BP_bounds, nSamp=1000, seed=NULL)\n",
    "# }"
   ]
  },
  {
   "cell_type": "code",
   "execution_count": 15,
   "metadata": {},
   "outputs": [],
   "source": [
    "# # RES\n",
    "\n",
    "# print('Area'); print(RES$Area)\n",
    "# plot(RES$distZ, main='Discrete representation')\n",
    "# print('Total cost')\n",
    "# print(RES$cost)"
   ]
  },
  {
   "cell_type": "code",
   "execution_count": 16,
   "metadata": {},
   "outputs": [],
   "source": [
    "# cost_vec = c()\n",
    "# for (k in 1:nSim){\n",
    "# #     cost_vec = c(cost_vec, RESsim[[k]]$cost)\n",
    "#     cost_vec = c(cost_vec, Ctotal_eval_data(RESsim[[k]]$Area, Load=Load, RESsim[[k]]$distZ, Cp=Cp, Cf=Cf))\n",
    "# }\n",
    "# # hist(cost_vec)\n",
    "# optIndex = which.min(cost_vec)\n",
    "\n",
    "# optRES = RESsim[[optIndex]]\n",
    "# print('Area'); print(optRES$Area)\n",
    "# print('Total cost')\n",
    "# # print(optRES$cost)\n",
    "# print(cost_vec[optIndex])\n",
    "# plot(optRES$distZ, main='Discrete representation')\n",
    "# # hist(zc, optRES$BP_list, main='Discrete representation')"
   ]
  },
  {
   "cell_type": "markdown",
   "metadata": {},
   "source": [
    "## Solve the optimization problem for loading systems"
   ]
  },
  {
   "cell_type": "code",
   "execution_count": 17,
   "metadata": {},
   "outputs": [],
   "source": [
    "# Initialize iterations\n",
    "initialize_joint_iteration = function(loads_pri, dxLv_pri, dens_pri, optSys_index, nBinsL, muLlog, sdLlog, plot=TRUE){\n",
    "    repSys_index = ceiling(nBinsL/2) # middle value of new discretization corr. to previous optimal system\n",
    "    boundsL = loads_pri[optSys_index] + c(-1,1)*dxLv_pri[optSys_index]/2\n",
    "    discL = equal_width_logNorm_discretizer(boundsL[1], boundsL[2], nBinsL, muLlog, sdLlog)\n",
    "    new_loads = discL[[2]][-repSys_index]\n",
    "    loads_pos = c(loads_pri, new_loads)\n",
    "    dxL_pos = discL[[2]][2] - discL[[2]][1]\n",
    "    dxLv_pos = dxLv_pri; dxLv_pos[optSys_index] = dxL_pos; dxLv_pos = c(dxLv_pos, rep(dxL_pos,nBinsL-1)) \n",
    "    dens_pos = dens_pri; dens_pos[optSys_index] = discL[[3]][repSys_index]/nBinsL; dens_pos = c(dens_pos, discL[[3]][-repSys_index]/nBinsL) # accounting for bin with reduction (w_pos=w_pri/nBins)\n",
    "    weights_pos = dens_pos/sum(dens_pos)\n",
    "    \n",
    "    if (plot==TRUE){\n",
    "        # Plot\n",
    "        plot_loading_systems(boundsL=boundsL, muLlog=muLlog, sdLlog=sdLlog, discL=discL)\n",
    "    }\n",
    "    \n",
    "    return(list(loads_pos=loads_pos, new_loads=new_loads, dxLv_pos=dxLv_pos, dens_pos=dens_pos, weights_pos=weights_pos))\n",
    "}\n",
    "\n",
    "# Compute and include new systems in systems list\n",
    "updata_sysReps_list = function(sysReps_pri, new_loads, nSamp=100, seed=NULL){\n",
    "    sysReps_pos = sysReps_pri # initialize new object\n",
    "    nSys_pri = length(sysReps_pri)\n",
    "    for (s in 1:length(new_loads)){\n",
    "        sysReps_pos[[nSys_pri + s]] = optAreaAndDiscretization(Area_bounds=Area_bounds, Load=new_loads[s], Cp=Cp, Cf=Cf, z=zc, BP_bounds=BP_bounds, nSamp=1000, seed=NULL)\n",
    "    }\n",
    "    return(sysReps_pos)\n",
    "}\n",
    "\n",
    "# Compute expected utility over system choice and design (Area and discretization for capacity) \n",
    "compute_cost_avg_over_systems_choices = function(loads, weights, sysReps){\n",
    "    costs = c()\n",
    "    for (i in c(1:length(loads))){\n",
    "        temp = c()\n",
    "        for (j in c(1:length(loads))){\n",
    "            temp = c(temp, Ctotal_eval_data(sysReps[[i]]$Area, loads[j], sysReps[[i]]$distZ, Cp, Cf) )\n",
    "        }\n",
    "        costs = c(costs, weights%*%temp)\n",
    "    }\n",
    "    return(costs)\n",
    "}\n",
    "\n",
    "# Plot optimal sys. rep. (Area and capacity) along with system choice (load)\n",
    "plot_optSysRep_capacity = function(sysReps, loads, Optsys_index, costs){\n",
    "    plot(sysReps[[Optsys_index]]$distZ, main=paste0('Load = ', round(loads[Optsys_index],0), ', Area = ', round(sysReps[[Optsys_index]]$Area,3), \n",
    "                                              ', Stress = ', round(loads[Optsys_index]/sysReps[[Optsys_index]]$Area,3), \n",
    "                                              ', Cost = ', round(costs[Optsys_index],3) ))\n",
    "    points(c(loads[Optsys_index]/sysReps[[Optsys_index]]$Area),c(0), lw=5, col='red', pch=2)    \n",
    "}\n",
    "\n",
    "# Joint optimization of load, area and discretization of capacity\n",
    "joint_optimization = function(loads_pos, dxLv_pos, dens_pos, weights_pos, nBinsL, muLlog, sdLlog, plot=TRUE, n_iterations_max=10, nSamp=100, seed=NULL){\n",
    "    \n",
    "    for (i in 1:n_iterations_max){\n",
    "        \n",
    "        if (i == 1){\n",
    "            RES_pos = list() # initialize sys. rep. for capacity\n",
    "            new_loads = loads_pos\n",
    "        } else {\n",
    "            init = initialize_joint_iteration(loads_pri=loads_pos, dxLv_pri=dxLv_pos, dens_pri=dens_pos, optSys_index, nBinsL, muLlog, sdLlog, plot=plot)\n",
    "            new_loads = init$new_loads; \n",
    "            if ( length(unique(round(new_loads)))==1 ){ # terminate iteration if the new_loads rounds to the same integer \n",
    "                break\n",
    "            }\n",
    "            loads_pos = init$loads_pos; dxLv_pos = init$dxLv_pos\n",
    "            dens_pos = init$dens_pos; weights_pos = init$weights_pos\n",
    "        }\n",
    "        \n",
    "        RES_pos = updata_sysReps_list(sysReps_pri=RES_pos, new_loads=new_loads, nSamp, seed)\n",
    "        costs_pos = compute_cost_avg_over_systems_choices(loads_pos, weights_pos, RES_pos)\n",
    "        optSys_index = which.min(costs_pos)\n",
    "\n",
    "        if (plot==TRUE){\n",
    "            # Plot resulting sys. rep. \n",
    "            plot_optSysRep_capacity(RES_pos, loads_pos, optSys_index, costs_pos)    \n",
    "        }\n",
    "    }\n",
    "    return(list(loads_pos=loads_pos, dxLv_pos=dxLv_pos, dens_pos=dens_pos, weights_pos=weights_pos, RES_pos=RES_pos, costs_pos=costs_pos, optSys_index=optSys_index))\n",
    "}"
   ]
  },
  {
   "cell_type": "code",
   "execution_count": 18,
   "metadata": {},
   "outputs": [],
   "source": [
    "set.seed(1)\n",
    "Area_bounds = c(6,16)\n",
    "Cp=1\n",
    "Cf=100"
   ]
  },
  {
   "cell_type": "markdown",
   "metadata": {},
   "source": [
    "### Optimization\n",
    "\n",
    "#### Initialization"
   ]
  },
  {
   "cell_type": "code",
   "execution_count": 19,
   "metadata": {},
   "outputs": [
    {
     "data": {
      "image/png": "[encoded data removed]",
      "text/plain": [
       "Plot with title \"Loading systems\""
      ]
     },
     "metadata": {},
     "output_type": "display_data"
    }
   ],
   "source": [
    "# Initial loading systems\n",
    "nBinsL = 5 # choose as odd\n",
    "boundsL0 = qlnorm(c(0.001, 0.999), muLlog, sdLlog); # bounds_test \n",
    "discL0 = equal_width_logNorm_discretizer(boundsL0[1], boundsL0[2], nBinsL, muLlog, sdLlog); # res_test\n",
    "loads0 = discL0[[2]]\n",
    "dxL0v = rep(loads0[2] - loads0[1], nBinsL) \n",
    "dens0 = discL0[[3]]\n",
    "weights0 = dens0/sum(dens0)\n",
    "\n",
    "# Plot\n",
    "plot_loading_systems(boundsL=boundsL0, muLlog=muLlog, sdLlog=sdLlog, discL=discL0)"
   ]
  },
  {
   "cell_type": "markdown",
   "metadata": {},
   "source": [
    "#### Run the optimization"
   ]
  },
  {
   "cell_type": "code",
   "execution_count": 20,
   "metadata": {},
   "outputs": [],
   "source": [
    "# RES=joint_optimization(loads_pos=loads0, dxLv_pos=dxL0v, dens_pos=dens0, weights_pos=weights0, nBinsL, muLlog, sdLlog, \n",
    "#                        plot=TRUE, n_iterations_max=10, nSamp=1000, seed=NULL)\n",
    "\n",
    "# nSim = 1000\n",
    "# cl = makeCluster(detectCores()-1)\n",
    "# registerDoParallel(cl)\n",
    "# RESsim = foreach(i=1:nSim) %dopar% {\n",
    "#     joint_optimization(loads_pos=loads0, dxLv_pos=dxL0v, dens_pos=dens0, weights_pos=weights0, nBinsL, muLlog, sdLlog, \n",
    "#                        plot=FALSE, n_iterations_max=10, nSamp=1000, seed=NULL)\n",
    "# }\n",
    "# save(RESsim, file='RESsim_LoadingAndCapacitySystem.rda')\n",
    "# save(RESsim, file='RESsim_LoadingAndCapacitySystem1000.rda')\n",
    "\n",
    "# load('RESsim_LoadingAndCapacitySystem.rda')\n",
    "load('RESsim_LoadingAndCapacitySystem1000.rda')"
   ]
  },
  {
   "cell_type": "markdown",
   "metadata": {},
   "source": [
    "#### Results"
   ]
  },
  {
   "cell_type": "code",
   "execution_count": 21,
   "metadata": {},
   "outputs": [],
   "source": [
    "# RES\n",
    "\n",
    "# Minimum cost considerations\n",
    "# cost_vec = c()\n",
    "# for (k in 1:length(RESsim)){\n",
    "#     cost_vec = c(cost_vec, RESsim[[k]]$costs_pos[RESsim[[k]]$optSys_index])\n",
    "# }\n",
    "# hist(cost_vec)\n",
    "# optIndex = which.min(cost_vec)\n",
    "\n",
    "# Competing systems considerations\n",
    "loads_vec = c()\n",
    "weights_vec = c()\n",
    "RES_list = list()\n",
    "for (k in 1:length(RESsim)){\n",
    "    optInd_k = RESsim[[k]]$optSys_index\n",
    "    loads_vec = c(loads_vec, RESsim[[k]]$loads_pos[optInd_k])\n",
    "    weights_vec = c(weights_vec, RESsim[[k]]$dens_pos[optInd_k]*RESsim[[k]]$dxLv_pos[optInd_k])\n",
    "    RES_list[[k]] = RESsim[[k]]$RES_pos[[optInd_k]]\n",
    "}\n",
    "weights_vec = weights_vec/sum(weights_vec) # normalize weights\n",
    "costs_vec = compute_cost_avg_over_systems_choices(loads_vec, weights_vec, RES_list)"
   ]
  },
  {
   "cell_type": "markdown",
   "metadata": {},
   "source": [
    "##### Optimal model formulation"
   ]
  },
  {
   "cell_type": "code",
   "execution_count": 27,
   "metadata": {},
   "outputs": [],
   "source": [
    "# Optimal solution to the decision problem (Note that cost is shown as average over the competing systems)\n",
    "optIndex = which.min(costs_vec)\n",
    "optRES = RES_list[[optIndex]]\n",
    "\n",
    "# optRES"
   ]
  },
  {
   "cell_type": "markdown",
   "metadata": {},
   "source": [
    "#### Plots and quantities for paper"
   ]
  },
  {
   "cell_type": "code",
   "execution_count": 31,
   "metadata": {},
   "outputs": [
    {
     "name": "stdout",
     "output_type": "stream",
     "text": [
      "[1] \"Optimal area: 10.89\"\n",
      "[1] \"Optimal load: 257\"\n",
      "[1] \"Expected failure cost: 11.68\"\n"
     ]
    }
   ],
   "source": [
    "# Cost acc. sample data (this system only - not considering the competing systems)\n",
    "# optCost_data = Ctotal_eval_data(optRES$Area, loads_vec[optIndex], optRES$distZ, Cp, Cf); # optCost_data\n",
    "\n",
    "# Expected cost (this system only - not considering the competing systems)\n",
    "optCost = Ctotal_eval(optRES$Area, loads_vec[optIndex], optRES$distZ, Cp, Cf, nSamp=1000000, seed=NULL); \n",
    "\n",
    "print( paste0('Optimal area: ', round(optRES$Area,2) ) )\n",
    "print( paste0('Optimal load: ', round(loads_vec[optIndex],0) ) )\n",
    "print( paste0('Expected failure cost: ', round(optCost,2) ) ) # a little heigher than the the empirical estimate above due to the uniform prior (1)"
   ]
  },
  {
   "cell_type": "code",
   "execution_count": 29,
   "metadata": {},
   "outputs": [
    {
     "data": {
      "image/png": "[encoded data removed]",
      "text/plain": [
       "Plot with title \"\""
      ]
     },
     "metadata": {},
     "output_type": "display_data"
    }
   ],
   "source": [
    "# Capacity model\n",
    "# # Open a pdf file\n",
    "# pdf(\"simpleExample_distZ_opt.pdf\", width=5, height=5) \n",
    "# Create a plot\n",
    "plot(optRES$distZ, main='', xlab='Strength [MPa]', cex.lab=0.85, cex.axis=0.85)\n",
    "# # Close the pdf file\n",
    "# dev.off() "
   ]
  },
  {
   "cell_type": "code",
   "execution_count": 25,
   "metadata": {},
   "outputs": [
    {
     "data": {
      "image/png": "[encoded data removed]",
      "text/plain": [
       "Plot with title \"Empirical failure probability:  0.007\""
      ]
     },
     "metadata": {},
     "output_type": "display_data"
    }
   ],
   "source": [
    "# Failure probability\n",
    "optPf_vec = Pf_eval(optRES$Area, loads_vec[optIndex], optRES$distZ, nSamp=1000, seed=42)\n",
    "# # Open a pdf file\n",
    "# pdf(\"simpleExample_Pf_dist_opt.pdf\", width=5, height=5) \n",
    "# Create a plot\n",
    "hist(optPf_vec, freq=F, xlab='Probability of failure', main=paste( 'Empirical failure probability: ', sum(zc<loads_vec[optIndex]/optRES$Area)/length(zc) ), cex.lab=0.85, cex.axis=0.85)\n",
    "# # Close the pdf file\n",
    "# dev.off() "
   ]
  }
 ],
 "metadata": {
  "kernelspec": {
   "display_name": "R",
   "language": "R",
   "name": "ir"
  },
  "language_info": {
   "codemirror_mode": "r",
   "file_extension": ".r",
   "mimetype": "text/x-r-source",
   "name": "R",
   "pygments_lexer": "r",
   "version": "3.6.1"
  }
 },
 "nbformat": 4,
 "nbformat_minor": 4
}
